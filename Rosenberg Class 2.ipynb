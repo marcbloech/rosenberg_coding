{
 "cells": [
  {
   "cell_type": "markdown",
   "metadata": {},
   "source": [
    "# Welcome to the Coding Co-Curricular\n",
    "### Wednesdays 19:00 - 20:30, Marc & Tati\n",
    "Everyone has to start somewhere...Today, let's make a simple game and get an overview of the main concepts of programming with python :)\n",
    "\n",
    "***\n",
    "\n",
    "Firstly, please rename the file to \"Rosenberg Class 2 YOURNAME\" and save it."
   ]
  },
  {
   "cell_type": "markdown",
   "metadata": {},
   "source": [
    "Let's start by working with our first functions print() and input() to create an interaction between the player and computer.\n",
    "\n",
    "By the way: You can add new cells using the \"Insert\" button in the menu above if you want to try something else."
   ]
  },
  {
   "cell_type": "code",
   "execution_count": null,
   "metadata": {},
   "outputs": [],
   "source": [
    "print(\"Hello World\") #print() is a function that prints its argument"
   ]
  },
  {
   "cell_type": "code",
   "execution_count": null,
   "metadata": {},
   "outputs": [],
   "source": [
    "print(\"\\\"Hello World\\\" is a string\")"
   ]
  },
  {
   "cell_type": "code",
   "execution_count": null,
   "metadata": {},
   "outputs": [],
   "source": [
    "# Add two strings\n",
    "print(\"Hello \" + \"Marc!\" + \" How are you doing?\")"
   ]
  },
  {
   "cell_type": "code",
   "execution_count": null,
   "metadata": {},
   "outputs": [],
   "source": [
    "# Multilpy a string\n",
    "print(\"Hello\" * 5)"
   ]
  },
  {
   "cell_type": "code",
   "execution_count": null,
   "metadata": {},
   "outputs": [],
   "source": [
    "input() # This function takes an input from user"
   ]
  },
  {
   "cell_type": "code",
   "execution_count": null,
   "metadata": {},
   "outputs": [],
   "source": [
    "# Let's save the input of our user and assign it to a variable \n",
    "print(\"What is your name?\")\n",
    "name = input()\n",
    "print(name)"
   ]
  },
  {
   "cell_type": "markdown",
   "metadata": {},
   "source": [
    "<b>Try it yourself</b>: \n",
    "\n",
    "Use two functions to ask the name of the player and print a personalised welcoming message. \n",
    "Example of the output: \"Hello, Mark! Would you like to play a game?\"\n",
    "\n",
    "<b>Challenge</b>: Write a short story that uses 3 different inputs from the user. "
   ]
  },
  {
   "cell_type": "code",
   "execution_count": null,
   "metadata": {},
   "outputs": [],
   "source": []
  },
  {
   "cell_type": "markdown",
   "metadata": {},
   "source": [
    "## Working with numbers\n",
    "\n",
    "Let's have an overview of how to work with numbers:"
   ]
  },
  {
   "cell_type": "code",
   "execution_count": null,
   "metadata": {},
   "outputs": [],
   "source": [
    "1 # any whole number is called Integer"
   ]
  },
  {
   "cell_type": "code",
   "execution_count": null,
   "metadata": {},
   "outputs": [],
   "source": [
    "7.3 # any number with decimal point is called Float"
   ]
  },
  {
   "cell_type": "code",
   "execution_count": null,
   "metadata": {},
   "outputs": [],
   "source": [
    "# You can check the type by applying function type()\n",
    "print(type(1))\n",
    "print(type(7.3))\n",
    "print(type(\"Hello World\"))"
   ]
  },
  {
   "cell_type": "code",
   "execution_count": null,
   "metadata": {},
   "outputs": [],
   "source": [
    "# Anything you learned in maths you can as well solve using programming\n",
    "# Use: + for addition, - for substraction, * for multiplication, / for division\n",
    "print(2 + 3)\n",
    "print(4 * 7)"
   ]
  },
  {
   "cell_type": "code",
   "execution_count": null,
   "metadata": {},
   "outputs": [],
   "source": [
    "# Let's add some interraction with user for them to give us a number and we do some actions with it.\n",
    "print(\"Enter your favourite number\")\n",
    "number = input() # Declare a variable \"number\" which equals to user input\n",
    "print(number * 100)"
   ]
  },
  {
   "cell_type": "markdown",
   "metadata": {},
   "source": [
    "OUPS something is not right...\n",
    "We need to convert the input of the user to be an integer by using int() function. <b>Try to adjust the code above to get the correct answer.</b>"
   ]
  },
  {
   "cell_type": "markdown",
   "metadata": {},
   "source": [
    "<b>Questions</b>: \n",
    "\n",
    "1. What happens if you declare a variable twice, but with different values? Check out the code below and share your response. \n",
    "\n",
    "```\n",
    "a = 2\n",
    "a = 3\n",
    "print(a)\n",
    "```"
   ]
  },
  {
   "cell_type": "code",
   "execution_count": null,
   "metadata": {},
   "outputs": [],
   "source": []
  },
  {
   "cell_type": "markdown",
   "metadata": {},
   "source": [
    "2. What do you think the output of the following code is going to be?\n",
    "\n",
    "```\n",
    "a = 2\n",
    "b = a\n",
    "a = 3\n",
    "print(a)\n",
    "print(b)\n",
    "```"
   ]
  },
  {
   "cell_type": "code",
   "execution_count": null,
   "metadata": {},
   "outputs": [],
   "source": []
  },
  {
   "cell_type": "markdown",
   "metadata": {},
   "source": [
    "3. 2. What do you think the output of the following code is going to be?\n",
    "```\n",
    "a = 2\n",
    "b = a\n",
    "a = a + 1\n",
    "print(a)\n",
    "print(b)\n",
    "```"
   ]
  },
  {
   "cell_type": "code",
   "execution_count": null,
   "metadata": {},
   "outputs": [],
   "source": []
  },
  {
   "cell_type": "markdown",
   "metadata": {},
   "source": [
    "<b>Try it yourself</b>: \n",
    "1. Write code that converts radian to degree. \n",
    "2. Write code that converts Celcius to Fahrenheit.\n",
    "\n",
    "Hint: you can find in the internet the formulas to convert them"
   ]
  },
  {
   "cell_type": "code",
   "execution_count": null,
   "metadata": {},
   "outputs": [],
   "source": []
  },
  {
   "cell_type": "code",
   "execution_count": null,
   "metadata": {},
   "outputs": [],
   "source": []
  },
  {
   "cell_type": "markdown",
   "metadata": {},
   "source": [
    "### Conditionals and IF statements\n",
    "\n",
    "A lot of coding evolve comparing different variables and triggering a conditional response. For example: \n",
    "- use == to compare if variables are equal\n",
    "- use != to check if variables are not equal\n",
    "- use > or < to see if one variable is larger than the other\n",
    "\n",
    "A simple example would be traffic lights: if the traffic light is red - cars have to stop, if the traffic light is green - cars can drive. This is used in advanced and complicated technologies such as self-driving cars, where they use image recognition technology to identify the colour of the traffic lights and descide whether to continue driving or stop. \n",
    "\n",
    "Below you can see an example of if statement."
   ]
  },
  {
   "cell_type": "code",
   "execution_count": null,
   "metadata": {},
   "outputs": [],
   "source": [
    "traffic_colour = input()\n",
    "if traffic_colour == \"red\": \n",
    "    print(\"You should stop.\")\n",
    "else: \n",
    "    print(\"Have a nice ride.\")\n",
    "# But what happens if the traffic light is Yellow? "
   ]
  },
  {
   "cell_type": "code",
   "execution_count": null,
   "metadata": {},
   "outputs": [],
   "source": [
    "traffic_colour = input()\n",
    "if traffic_colour == \"red\": \n",
    "    print(\"You should stop.\")\n",
    "elif traffic_colour == \"yellow\": \n",
    "    pring(\"Soon the traffic light will be red, you should stop.\")\n",
    "else: \n",
    "    print(\"Have a nice ride.\")"
   ]
  },
  {
   "cell_type": "markdown",
   "metadata": {},
   "source": [
    "<b>Challenge 1</b>: \n",
    "\n",
    "Games may have an age restriction. Ask person to input their age, and see if person can play M or R rated games.\n",
    "\n",
    "Hint: try using the following structure\n",
    "if ____ > _____: \n",
    "    print(\"You are allowed to play the game.\")"
   ]
  },
  {
   "cell_type": "code",
   "execution_count": null,
   "metadata": {},
   "outputs": [],
   "source": []
  },
  {
   "cell_type": "markdown",
   "metadata": {},
   "source": [
    "<b>Challenge 2</b>: \n",
    "\n",
    "Let´s make a first human-computer interaction game. Computer should think about a number, and a user should guess the number, which computer has in mind. \n",
    "\n",
    "Hint: you need to import a package that generates random numbers and use the function randint(num1, num2), so start your code block with the following two lines\n",
    "\n",
    "```\n",
    "from random import *\n",
    "number = randint(1, 10)\n",
    "```"
   ]
  },
  {
   "cell_type": "code",
   "execution_count": null,
   "metadata": {},
   "outputs": [],
   "source": []
  },
  {
   "cell_type": "markdown",
   "metadata": {},
   "source": [
    "Additional Materials:\n",
    "\n",
    "A list of other basic python games to explore: \n",
    "- Rock-paper-scissors: - https://thehelloworldprogram.com/python/python-game-rock-paper-scissors/\n",
    "- High-Low Card: https://www.askpython.com/python/examples/terminal-hi-lo-game-in-python\n",
    "- Text based: https://bournetocode.com/projects/8-CS-TextGames/pages/2_Lesson.html\n",
    "- Tic Tac Toe: https://www.c-sharpcorner.com/UploadFile/75a48f/tic-tac-toe-game-in-python/"
   ]
  },
  {
   "cell_type": "code",
   "execution_count": null,
   "metadata": {},
   "outputs": [],
   "source": []
  }
 ],
 "metadata": {
  "kernelspec": {
   "display_name": "Python 3",
   "language": "python",
   "name": "python3"
  },
  "language_info": {
   "codemirror_mode": {
    "name": "ipython",
    "version": 3
   },
   "file_extension": ".py",
   "mimetype": "text/x-python",
   "name": "python",
   "nbconvert_exporter": "python",
   "pygments_lexer": "ipython3",
   "version": "3.8.5"
  }
 },
 "nbformat": 4,
 "nbformat_minor": 4
}
