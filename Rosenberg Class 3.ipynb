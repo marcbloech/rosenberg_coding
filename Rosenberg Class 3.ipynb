{
 "cells": [
  {
   "cell_type": "markdown",
   "metadata": {},
   "source": [
    "# Coding & Informatics - Session 3\n",
    "\n",
    "Go from the beginning to the end step by step through this exercise sheet and solve the exercises.\n",
    "\n",
    "If you have any questions, just ask!\n",
    "\n",
    "***\n",
    "\n",
    "# Recap - Last week's content\n",
    "\n",
    "- Values, types & variables\n",
    "- Functions (print, type, input)\n",
    "- If else statements\n",
    "\n",
    "***\n",
    "A quick recap of what we did last week:\n",
    "### Values\n",
    "**Values** are simply text or numbers, such as \"Hello world\" and 42.\n",
    "We learned that there are different **types** of values in Python, called\n",
    "- **Strings** for text like \"Hello World\" (because the single letters are \"strung\" together to form the strings)\n",
    "- **Integers**, which are whole numbers like 10 and 42, short called \"int\"\n",
    "- **Floats**, which are numbers that have a decimal point such as 2.5 and 44.999 (they are called \"floating point numbers\", \"float\" is shorter)\n",
    "\n",
    "\n",
    "We can see what type a certain value is by using the function \"type()\". Sometimes, it is important to know which type you are using because some functions only work with some types, but not with others. For example, we cannot divide text, only integers and floats.\n",
    "\n",
    "**Exercise 1a)**: Find the type of the following values:"
   ]
  },
  {
   "cell_type": "code",
   "execution_count": null,
   "metadata": {},
   "outputs": [],
   "source": [
    "\"is this a string?\""
   ]
  },
  {
   "cell_type": "code",
   "execution_count": null,
   "metadata": {},
   "outputs": [],
   "source": [
    "999"
   ]
  },
  {
   "cell_type": "code",
   "execution_count": null,
   "metadata": {},
   "outputs": [],
   "source": [
    "100.1"
   ]
  },
  {
   "cell_type": "code",
   "execution_count": null,
   "metadata": {},
   "outputs": [],
   "source": [
    "\"1000\""
   ]
  },
  {
   "cell_type": "markdown",
   "metadata": {},
   "source": [
    "Think about this: Why is the last one a string as well? If you know the answer, go further.\n",
    "***\n",
    "\n",
    "### Variables\n",
    "Then, we also learned what **variables** are.\n",
    "Variables are a key concept in coding and basically every language has them. They are a storage unit with a name (like a box with a label) for any type of data. They enable us to store and retrieve data easily.\n",
    "\n",
    "For example, we can save a user's name and password, or we can save the result of some calculation in its own variable.\n",
    "\n",
    "**Exercise 1b):** Perform the exercises noted in the comments at the beginning of each cell"
   ]
  },
  {
   "cell_type": "code",
   "execution_count": null,
   "metadata": {},
   "outputs": [],
   "source": [
    "# Calculate 10+35 and store it in a variable called \"result\"\n",
    "\n",
    "YOUR-CODE-HERE"
   ]
  },
  {
   "cell_type": "code",
   "execution_count": null,
   "metadata": {},
   "outputs": [],
   "source": [
    "# Enter your name and store it in a variable called \"my_name\"\n",
    "\n",
    "YOUR-CODE-HERE"
   ]
  },
  {
   "cell_type": "code",
   "execution_count": null,
   "metadata": {},
   "outputs": [],
   "source": [
    "# Take that previous result and multiply it by 2, and store it again in a variable called \"result\"\n",
    "\n",
    "YOUR-CODE-HERE"
   ]
  },
  {
   "cell_type": "code",
   "execution_count": null,
   "metadata": {},
   "outputs": [],
   "source": [
    "# print the result\n",
    "\n",
    "YOUR-CODE-HERE"
   ]
  },
  {
   "cell_type": "markdown",
   "metadata": {},
   "source": [
    "***\n",
    "\n",
    "### Functions ###\n",
    "We already used a handful of functions, such as type() and print().\n",
    "Functions are \"self contained\" modules of code that do a specific task.\n",
    "\n",
    "The type() function tells us what type the object in parentheses ( ) is, and the print function prints the object in the parentheses. \n",
    "\n",
    "We also looked at the input() function. In combination with a variable, we can ask the user for input and then store that information in a variable.\n",
    "\n",
    "**Exercise 1c):** Go ahead and do the quick reminder exercises below\n",
    "\n"
   ]
  },
  {
   "cell_type": "code",
   "execution_count": null,
   "metadata": {},
   "outputs": [],
   "source": [
    "# Print a sentence saying \"Hello world\"\n",
    "\n",
    "YOUR CODE HERE"
   ]
  },
  {
   "cell_type": "code",
   "execution_count": null,
   "metadata": {},
   "outputs": [],
   "source": [
    "# Ask a user for their name (using input() )\n",
    "\n",
    "YOUR CODE HERE"
   ]
  },
  {
   "cell_type": "code",
   "execution_count": null,
   "metadata": {},
   "outputs": [],
   "source": [
    "# Ask a user for age, and then print a sentence saying \"You are X years old\" with their age as X\n",
    "\n",
    "YOUR CODE HERE"
   ]
  },
  {
   "cell_type": "markdown",
   "metadata": {},
   "source": [
    "***\n",
    "\n",
    "And lastly, we also looked briefly at \n",
    "### If-else statements\n",
    "These are used to tell the computer what action it should take.\n",
    "For example, we can program our software that if the username and password are identical to that in our database, then we let the user login. Or we can ask the age of the user, and if they are younger than 6 years old we do not let them start the program. \n",
    "\n",
    "The possibilities are endless, and if-else statements are a fundamental piece of coding that you will use many times.\n",
    "\n",
    "**Exercise 1d):** Now, solve the last few reminder-exercises below:"
   ]
  },
  {
   "cell_type": "code",
   "execution_count": null,
   "metadata": {},
   "outputs": [],
   "source": [
    "# Fix this piece of code so that anyone older than 100 sees the message \"Congratulations!\"\n",
    "age = input()\n",
    "\n",
    "if age ?? 100:\n",
    "    print(\" \")"
   ]
  },
  {
   "cell_type": "code",
   "execution_count": null,
   "metadata": {},
   "outputs": [],
   "source": [
    "# Fix this piece of code so that if the word \"password\" is entered, we assign the variable \"logged_in\" a True value, \n",
    "# and else we print \"wrong password\"\n",
    "text = input()\n",
    "\n",
    "if ?? ?? \"password\":\n",
    "    logged_in = True\n",
    "else:\n",
    "    ??(\"wrong password\")"
   ]
  },
  {
   "cell_type": "markdown",
   "metadata": {},
   "source": [
    "***\n",
    "\n",
    "## Today: Developing a Tic Tac Toe game\n",
    "\n",
    "- Planning our approach (What do we need for a tic tac toe game?)\n",
    "- Building each step & thereby learning new concepts\n",
    " - Lists & dictionaries\n",
    " - Creating your own functions\n",
    " - For and while loops\n",
    "- Assembling it\n",
    "- Playing\n",
    "\n",
    "***\n",
    "\n",
    "Let's think for a second about what a game of Tic Tac Toe in code format would need.\n",
    "\n",
    "- We need to display the game board somehow\n",
    "- We need to get input from the user where he wants to place his piece\n",
    "- We need to save that piece in that location (and check if the location is empty first)\n",
    "- We need to alternate between players\n",
    "- After 5 plays, we need to check if someone has won\n",
    "- If someone has won, we need to declare the winner\n",
    "- If no one has won after 9 plays (i.e. when the board if full), we need to stop the game.\n",
    "\n",
    "\n",
    "***\n",
    "Alright, let's get started!\n",
    "\n",
    "First, we need to **display the board** somehow. There are more advanced graphical user interface (GUI) options out there, but today we will simply display the board by printing it with symbols like | and __ \n",
    "\n",
    "Remember, this is what a board looks like:\n",
    "<div>\n",
    "<img src=\"https://miro.medium.com/max/512/1*9LBDOx6gG4mTuPGPDp888w.png\" width=\"200\"/>\n",
    "</div>\n",
    "\n",
    "Because we will print our board many times, we will create a function that does this. This way, we do not have to type the whole code each time. \n",
    "\n",
    "**Exercise 2a):** Complete the piece of code below to create a function called \"printBoard()\" that prints an empty tic tac toe board using \"|\", \"+\", and \"_\". (Hint: We need 5 lines, or 5 print statements)\n",
    "\n",
    "This is what it should look like in the end\n",
    "<div>\n",
    "<img src=\"https://i.imgur.com/Xxts3ZX.png\" width=\"50\"/>\n",
    "</div>\n"
   ]
  },
  {
   "cell_type": "code",
   "execution_count": null,
   "metadata": {},
   "outputs": [],
   "source": [
    "def printBoard():\n",
    "    YOUR CODE HERE"
   ]
  },
  {
   "cell_type": "code",
   "execution_count": null,
   "metadata": {},
   "outputs": [],
   "source": [
    "# Run this cell to test your function\n",
    "\n",
    "printBoard()"
   ]
  },
  {
   "cell_type": "markdown",
   "metadata": {},
   "source": [
    "***\n",
    "Good, now we have our basic playing board. \n",
    "We need to other things to get working: **Lists** and **Dictionaries**\n",
    "\n",
    "A **list** is used to store multiple items in a single variable.\n",
    "For example, I could create a list of my shopping items like below:"
   ]
  },
  {
   "cell_type": "code",
   "execution_count": null,
   "metadata": {},
   "outputs": [],
   "source": [
    "shopping_list = [\"apple\", \"banana\", \"cherry\"]\n",
    "print(shopping_list)"
   ]
  },
  {
   "cell_type": "markdown",
   "metadata": {},
   "source": [
    "The special thing here is that I can pick specific items, for example the second one by using [ ]\n",
    "\n",
    "One important note: Most coding languages start counting at 0, so the second element in this list would be the one with number 1."
   ]
  },
  {
   "cell_type": "code",
   "execution_count": null,
   "metadata": {},
   "outputs": [],
   "source": [
    "shopping_list[0]"
   ]
  },
  {
   "cell_type": "markdown",
   "metadata": {},
   "source": [
    "**Exercise 2b):** Use brackets [ ] to get the second item from the shopping list by adding them directly behind the name of our list. The output should say \"banana\":"
   ]
  },
  {
   "cell_type": "code",
   "execution_count": null,
   "metadata": {},
   "outputs": [],
   "source": [
    "shopping_list"
   ]
  },
  {
   "cell_type": "markdown",
   "metadata": {},
   "source": [
    "On the other hand, with a **dictionary** we do not simply look at the number of an item. With a real dictionary you know from other classes, usually one is interested in the corresponding entry for a given word.\n",
    "\n",
    "The same applied in coding: With dictionaries, we store key and value pairs. Take a look at the example below."
   ]
  },
  {
   "cell_type": "code",
   "execution_count": null,
   "metadata": {},
   "outputs": [],
   "source": [
    "my_car = {\n",
    "  \"brand\": \"Ford\",\n",
    "  \"model\": \"Mustang\",\n",
    "  \"year\": 1964\n",
    "}"
   ]
  },
  {
   "cell_type": "code",
   "execution_count": null,
   "metadata": {},
   "outputs": [],
   "source": [
    "# By specifying the key I want to look at, I get the corresponding value\n",
    "\n",
    "my_car[\"brand\"]"
   ]
  },
  {
   "cell_type": "markdown",
   "metadata": {},
   "source": [
    "**Exercise 2c):** Get the year information from the dictionary \"my_car\" and store it in a variable called \"car_year\":"
   ]
  },
  {
   "cell_type": "code",
   "execution_count": null,
   "metadata": {},
   "outputs": [],
   "source": [
    "YOUR CODE HERE"
   ]
  },
  {
   "cell_type": "markdown",
   "metadata": {},
   "source": [
    "We can also edit and add data to dictionaries. It works similar to creating a variable:"
   ]
  },
  {
   "cell_type": "code",
   "execution_count": null,
   "metadata": {},
   "outputs": [],
   "source": [
    "my_car[\"brand\"] = \"Lamborghini\"\n",
    "\n",
    "print(my_car)"
   ]
  },
  {
   "cell_type": "markdown",
   "metadata": {},
   "source": [
    "This will become important in our Tic Tac Toe game.\n",
    "\n",
    "**Exercise 2d):** Add \"colour\" to the my_car dictionary with the value \"red\":"
   ]
  },
  {
   "cell_type": "code",
   "execution_count": null,
   "metadata": {},
   "outputs": [],
   "source": []
  },
  {
   "cell_type": "markdown",
   "metadata": {},
   "source": [
    "***\n",
    "Back to our tic tac toe game:\n",
    "\n",
    "Our game board has 9 places where the player can place a piece. For this to work, we need a **list** with each location, ordered like the number pad on your keyboard. \n",
    "\n",
    "Then, we also need a **dictionary**. Here, we will store if a player has placed a piece on a given field. It is sort of our savegame file.\n",
    "\n",
    "The code below is already complete."
   ]
  },
  {
   "cell_type": "code",
   "execution_count": null,
   "metadata": {
    "deletable": false,
    "editable": false
   },
   "outputs": [],
   "source": [
    "board_keys = ['7', '8', '9', '4', '5', '6', '1', '2', '3']\n",
    "\n",
    "theBoard = {'7': ' ' , '8': ' ' , '9': ' ' ,\n",
    "            '4': ' ' , '5': ' ' , '6': ' ' ,\n",
    "            '1': ' ' , '2': ' ' , '3': ' ' }"
   ]
  },
  {
   "cell_type": "markdown",
   "metadata": {},
   "source": [
    "The next steps are already done for you. Not because they are complicated, but because they take a bit of time.\n",
    "\n",
    "We created our function printBoard() to display the board during gameplay. Now, we need to add the data from our dictionary (which holds the data for each play field) to that print. The code is already complete."
   ]
  },
  {
   "cell_type": "code",
   "execution_count": null,
   "metadata": {
    "deletable": false,
    "editable": false
   },
   "outputs": [],
   "source": [
    "def printBoard(board):\n",
    "    print(board['7'] + '|' + board['8'] + '|' + board['9'])\n",
    "    print('-+-+-')\n",
    "    print(board['4'] + '|' + board['5'] + '|' + board['6'])\n",
    "    print('-+-+-')\n",
    "    print(board['1'] + '|' + board['2'] + '|' + board['3'])"
   ]
  },
  {
   "cell_type": "markdown",
   "metadata": {},
   "source": [
    "Let's see if that worked:\n",
    "\n",
    "**Exercise 2e):** Follow the instructions in the comments (#) below:"
   ]
  },
  {
   "cell_type": "code",
   "execution_count": null,
   "metadata": {},
   "outputs": [],
   "source": [
    "# Print the content of field 7 of our \"theBoard\" - it's a dictionary\n",
    "\n",
    "# It should be empty / nothing. Now add an \"X\" to \"theBoard\" at position 7\n",
    "\n",
    "# Print the content of field 7 of our \"theBoard\", just like before\n",
    "\n",
    "# Now print the whole board using the printBoard(theBoard) function"
   ]
  },
  {
   "cell_type": "markdown",
   "metadata": {},
   "source": [
    "You should now see an X on the board! Great.\n",
    "***\n",
    "\n",
    "The last thing we need are **loops**. Our game can take up to 9 rounds, and we need to print the board each round and ask players for their input.\n",
    "\n",
    "We do this using loops, which repeat some action until a ending condition is met.\n",
    "\n",
    "Let's start small again:\n",
    "\n",
    "This is an example of a loop. It prints the number it is currently at, and then it increases that number by 1. It does this as long as the number is smaller than 6. Then it stops."
   ]
  },
  {
   "cell_type": "code",
   "execution_count": null,
   "metadata": {},
   "outputs": [],
   "source": [
    "i = 0\n",
    "while i < 6:\n",
    "  print(i)\n",
    "  i += 1"
   ]
  },
  {
   "cell_type": "markdown",
   "metadata": {},
   "source": [
    "An easier, but very similar way to do this is using a \"for loop\", this automatically increases our counter (\"i\") every loop."
   ]
  },
  {
   "cell_type": "code",
   "execution_count": null,
   "metadata": {},
   "outputs": [],
   "source": [
    "for i in range(6):\n",
    "    print(i)"
   ]
  },
  {
   "cell_type": "markdown",
   "metadata": {},
   "source": [
    "**Exercise 2f):** Create a loop (either for or while) that prints your name 10 times, but adds a \"!\" at the end of your name everytime.\n",
    "\n",
    "(Hint: You can add symbols to strings simply by using *string = string + \"symbol of choice\"*)"
   ]
  },
  {
   "cell_type": "code",
   "execution_count": null,
   "metadata": {},
   "outputs": [],
   "source": []
  },
  {
   "cell_type": "markdown",
   "metadata": {},
   "source": [
    "***\n",
    "Now we are ready to start developing our tic tac toe game!\n",
    "\n",
    "We will do this incrementally, that means add a feature and then test if it works.\n",
    "\n",
    "Let's start with the basics: We need a function called \"game()\" that starts with some basic information such as the beginner player's turn and an empty board (otherwise if you don't clean your savegame, you could only play once and would then need to restart your computer).\n",
    "\n",
    "The code below is already complete."
   ]
  },
  {
   "cell_type": "code",
   "execution_count": null,
   "metadata": {
    "deletable": false,
    "editable": false
   },
   "outputs": [],
   "source": [
    "def game():\n",
    "    \n",
    "    #reseting all our data \n",
    "    turn = 'X' # X starts\n",
    "    count = 0\n",
    "    theBoard = {'7': ' ' , '8': ' ' , '9': ' ' ,\n",
    "            '4': ' ' , '5': ' ' , '6': ' ' ,\n",
    "            '1': ' ' , '2': ' ' , '3': ' ' }"
   ]
  },
  {
   "cell_type": "markdown",
   "metadata": {},
   "source": [
    "Let's add the main functionality:\n",
    "\n",
    "**Exercise 3a**: Copy the code of game() from above and then add a for loop with range(10) that prints theBoard, and then also prints a sentence saying \"It's your turn, (PLAYER WHO's TURN IT IS). Move to which place?\").\n",
    "\n",
    "Test your function game() to see if it correctly works."
   ]
  },
  {
   "cell_type": "code",
   "execution_count": null,
   "metadata": {},
   "outputs": [],
   "source": []
  },
  {
   "cell_type": "markdown",
   "metadata": {},
   "source": [
    "Now, we ask the user for input. \n",
    "\n",
    "**Exercise 3b):** Copy your code from above, and add an input() command that is saved in the variable \"move\".\n",
    "Then, add the code snippet below under your move input and complete it so that checks whether the board field of the entered move is empty (\" \"), and if that is the case, then save the current player (which is the variable \"turn\") in that field. "
   ]
  },
  {
   "cell_type": "code",
   "execution_count": null,
   "metadata": {},
   "outputs": [],
   "source": [
    "if theBoard[move] == ??? :\n",
    "            ??? = ???\n",
    "            count = count + 1\n",
    "else:\n",
    "    print(\"That place is already filled.\\nMove to which place?\")\n",
    "    continue"
   ]
  },
  {
   "cell_type": "markdown",
   "metadata": {},
   "source": [
    "Another thing we need to do is to check if anyone has won in our game as soon as  5 plays have happened.\n",
    "\n",
    "The code for this is already written, but make sure you roughly understand what's going on. \n",
    "\n",
    "This piece of code takes a look at all possible winning combinations (for example the top row filled out by the same player) and if any of these possibilities happened, and if that is the case, then it **breaks** the loop.\n",
    "\n",
    "We simply look if the Player who has his mark in Field 7 is the same as in 8 & 9, and so on.\n",
    "\n",
    "**Exercise 3c):** Copy this code and add it to your game below the move segment."
   ]
  },
  {
   "cell_type": "code",
   "execution_count": null,
   "metadata": {
    "deletable": false,
    "editable": false
   },
   "outputs": [],
   "source": [
    " # Now we will check if player X or O has won,for every move after 5 moves. \n",
    "        if count >= 5:\n",
    "            if theBoard['7'] == theBoard['8'] == theBoard['9'] != ' ': # across the top\n",
    "                printBoard(theBoard)\n",
    "                print(\"\\nGame Over.\\n\")                \n",
    "                print(\" **** \" +turn + \" won. ****\")                \n",
    "                break\n",
    "            elif theBoard['4'] == theBoard['5'] == theBoard['6'] != ' ': # across the middle\n",
    "                printBoard(theBoard)\n",
    "                print(\"\\nGame Over.\\n\")                \n",
    "                print(\" **** \" +turn + \" won. ****\")\n",
    "                break\n",
    "            elif theBoard['1'] == theBoard['2'] == theBoard['3'] != ' ': # across the bottom\n",
    "                printBoard(theBoard)\n",
    "                print(\"\\nGame Over.\\n\")                \n",
    "                print(\" **** \" +turn + \" won. ****\")\n",
    "                break\n",
    "            elif theBoard['1'] == theBoard['4'] == theBoard['7'] != ' ': # down the left side\n",
    "                printBoard(theBoard)\n",
    "                print(\"\\nGame Over.\\n\")                \n",
    "                print(\" **** \" +turn + \" won. ****\")\n",
    "                break\n",
    "            elif theBoard['2'] == theBoard['5'] == theBoard['8'] != ' ': # down the middle\n",
    "                printBoard(theBoard)\n",
    "                print(\"\\nGame Over.\\n\")                \n",
    "                print(\" **** \" +turn + \" won. ****\")\n",
    "                break\n",
    "            elif theBoard['3'] == theBoard['6'] == theBoard['9'] != ' ': # down the right side\n",
    "                printBoard(theBoard)\n",
    "                print(\"\\nGame Over.\\n\")                \n",
    "                print(\" **** \" +turn + \" won. ****\")\n",
    "                break \n",
    "            elif theBoard['7'] == theBoard['5'] == theBoard['3'] != ' ': # diagonal\n",
    "                printBoard(theBoard)\n",
    "                print(\"\\nGame Over.\\n\")                \n",
    "                print(\" **** \" +turn + \" won. ****\")\n",
    "                break\n",
    "            elif theBoard['1'] == theBoard['5'] == theBoard['9'] != ' ': # diagonal\n",
    "                printBoard(theBoard)\n",
    "                print(\"\\nGame Over.\\n\")                \n",
    "                print(\" **** \" +turn + \" won. ****\")\n",
    "                break "
   ]
  },
  {
   "cell_type": "code",
   "execution_count": null,
   "metadata": {},
   "outputs": [],
   "source": []
  },
  {
   "cell_type": "markdown",
   "metadata": {},
   "source": [
    "What can also happen is that the board is full and no player wins.\n",
    "In that case, we declare a tie.\n",
    "\n",
    "**Exercise 3d):** Check if the variable count is equal to 9, and if that is the case then display the text \"Game Over. It's a tie!\". Afterwards, add a \"break\" statement to end the program.\n",
    "\n",
    "Use this cell below to first implement the code to check if it works, and then add it to your tic tac toe game."
   ]
  },
  {
   "cell_type": "code",
   "execution_count": null,
   "metadata": {},
   "outputs": [],
   "source": [
    "count = 1 # Use this to check if your code works\n",
    "    \n",
    "YOUR CODE HERE"
   ]
  },
  {
   "cell_type": "code",
   "execution_count": null,
   "metadata": {},
   "outputs": [],
   "source": []
  },
  {
   "cell_type": "markdown",
   "metadata": {},
   "source": [
    "Lastly, we need to switch players around after each turn.\n",
    "\n",
    "**Exercise 3e):** Check if the player (stored in the variable \"turn\") is equal to \"X\". If that is the case, change \"turn\" to \"o\". Else, change turn to \"X\". \n",
    "\n",
    "This way, we can switch the players around each time.\n",
    "\n",
    "Then, add this last snippet to your code. It is now complete"
   ]
  },
  {
   "cell_type": "code",
   "execution_count": null,
   "metadata": {},
   "outputs": [],
   "source": []
  },
  {
   "cell_type": "code",
   "execution_count": null,
   "metadata": {},
   "outputs": [],
   "source": []
  },
  {
   "cell_type": "markdown",
   "metadata": {},
   "source": [
    "## DONE!\n",
    "\n",
    "You should be able to check if your game works by running the \"game()\" function.\n",
    "\n",
    "If it does not work, take a look at the file \"RB3_x\" you downloaded earlier. It is the solution. You can copy the code from there and compare if you made any mistakes."
   ]
  },
  {
   "cell_type": "code",
   "execution_count": null,
   "metadata": {},
   "outputs": [],
   "source": [
    "game()"
   ]
  },
  {
   "cell_type": "markdown",
   "metadata": {},
   "source": [
    "***\n",
    "**Bonus Task:** Try to integrate some functionality so that in the end after one player has one, the program asks \"Do you want to play another round\" and that it then automatically starts a new round if the users' input is \"yes\""
   ]
  },
  {
   "cell_type": "code",
   "execution_count": null,
   "metadata": {},
   "outputs": [],
   "source": []
  }
 ],
 "metadata": {
  "celltoolbar": "Edit Metadata",
  "kernelspec": {
   "display_name": "Python 3",
   "language": "python",
   "name": "python3"
  },
  "language_info": {
   "codemirror_mode": {
    "name": "ipython",
    "version": 3
   },
   "file_extension": ".py",
   "mimetype": "text/x-python",
   "name": "python",
   "nbconvert_exporter": "python",
   "pygments_lexer": "ipython3",
   "version": "3.8.5"
  }
 },
 "nbformat": 4,
 "nbformat_minor": 4
}
