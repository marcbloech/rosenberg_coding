{
 "cells": [
  {
   "cell_type": "markdown",
   "metadata": {},
   "source": [
    "# Coding & Informatics - Session 4\n",
    "\n",
    "Go from the beginning to the end step by step through this exercise sheet and solve the exercises.\n",
    "\n",
    "If you have any questions, just ask!\n",
    "\n",
    "***\n",
    "\n",
    "# Recap - Last week's content\n",
    "\n",
    "- Lists\n",
    "- Dictionaries\n",
    "- Loops\n",
    "\n",
    "***"
   ]
  },
  {
   "cell_type": "markdown",
   "metadata": {},
   "source": [
    "Last week, we started our Tic Tac Toe game. \n",
    "\n",
    "To that end, we created a dictionary that would store the information about each place on the board (**please run the next cell**):"
   ]
  },
  {
   "cell_type": "code",
   "execution_count": null,
   "metadata": {},
   "outputs": [],
   "source": [
    "theBoard = {'7': ' ' , '8': ' ' , '9': ' ' ,\n",
    "            '4': ' ' , '5': ' ' , '6': ' ' ,\n",
    "            '1': ' ' , '2': ' ' , '3': ' ' }"
   ]
  },
  {
   "cell_type": "markdown",
   "metadata": {},
   "source": [
    "<div>\n",
    "<img src=\"https://i.imgur.com/EYIJwa0.png\" width=\"200\"/>\n",
    "</div>\n",
    "\n",
    "Using this dictionary, we can store information about which player has, for example, placed their piece on the top middle field by saving either \"X\" or \"O\" into the field 8 of our dictionary. \n",
    "\n",
    "Remember from last week, we save and retrieve things by using \"[ ]\" as shown below:"
   ]
  },
  {
   "cell_type": "code",
   "execution_count": null,
   "metadata": {},
   "outputs": [],
   "source": [
    "# Create dictionary\n",
    "my_car = {\n",
    "  \"brand\": \"Ford\",\n",
    "  \"model\": \"Mustang\",\n",
    "  \"year\": 1964\n",
    "}\n",
    "\n",
    "# Get information\n",
    "my_car_brand = my_car[\"brand\"]\n",
    "print(my_car_brand)\n",
    "\n",
    "# Save information\n",
    "my_car[\"colour\"] = \"black\"\n",
    "\n",
    "#overwrite information\n",
    "my_car[\"brand\"] = \"Ferrari\"\n",
    "print(my_car[\"brand\"])"
   ]
  },
  {
   "cell_type": "markdown",
   "metadata": {},
   "source": [
    "**Exercise 1a): To test your knowledge, assign player X to the fields 1, 5, and 9 in our theBoard dictionary.**"
   ]
  },
  {
   "cell_type": "code",
   "execution_count": null,
   "metadata": {},
   "outputs": [],
   "source": [
    "# YOUR CODE HERE"
   ]
  },
  {
   "cell_type": "markdown",
   "metadata": {},
   "source": [
    "***\n",
    "\n",
    "You also created a **function** to print our board game each time, that fills in the values from our board dictionary into the fields on the board. \n",
    "\n",
    "The code below is complete. If you have any questions about it, just ask your instructor."
   ]
  },
  {
   "cell_type": "code",
   "execution_count": null,
   "metadata": {
    "deletable": false,
    "editable": false
   },
   "outputs": [],
   "source": [
    "def printBoard(input_board):\n",
    "    print(input_board['7'] + '|' + input_board['8'] + '|' + input_board['9'])\n",
    "    print('-+-+-')\n",
    "    print(input_board['4'] + '|' + input_board['5'] + '|' + input_board['6'])\n",
    "    print('-+-+-')\n",
    "    print(input_board['1'] + '|' + input_board['2'] + '|' + input_board['3'])"
   ]
  },
  {
   "cell_type": "markdown",
   "metadata": {},
   "source": [
    "Try out the function below. Important: We need to put the name of our game board dictionary inside the \"()\", in our case \"theBoard\" so that the function knows which board we want to look at"
   ]
  },
  {
   "cell_type": "code",
   "execution_count": null,
   "metadata": {},
   "outputs": [],
   "source": [
    "# Try out the printBoard(...) function here"
   ]
  },
  {
   "cell_type": "markdown",
   "metadata": {},
   "source": [
    "***\n",
    "We already got one part of our tic tac toe game sorted out now.\n",
    "\n",
    "Let's continue incrementally, that means add a feature and then test if it works.\n",
    "\n",
    "Before we put in our printBoard function, et's start with the basics: We need a function called \"game()\" that starts the game with some basic information such as the beginner player's turn and an empty board (otherwise if you don't clean your savegame, you could only play once and would then need to restart your computer).\n",
    "\n",
    "***\n",
    "**Exercise 2a: Create a function called \"game\" that outputs \"The game has started\"**\n",
    "\n",
    "Then test it if your function works in the cell below."
   ]
  },
  {
   "cell_type": "code",
   "execution_count": null,
   "metadata": {},
   "outputs": [],
   "source": [
    "# YOUR CODE HERE\n",
    "def game(): \n",
    "    print(\"The game has started\")"
   ]
  },
  {
   "cell_type": "code",
   "execution_count": null,
   "metadata": {},
   "outputs": [],
   "source": [
    "# Just for testing\n",
    "game()"
   ]
  },
  {
   "cell_type": "markdown",
   "metadata": {},
   "source": [
    "Now, copy your code from above and add the following elements:\n",
    "**Exercise 2b: Add a variable called turn that starts with value \"X\", a variable called \"count\" that starts with value 0, as well as the \"theBoard\" dictionary (see below) to your function.\n",
    "\n",
    "The third cell below is a cell that tests if your function works. If you see no error message, that means it's all working."
   ]
  },
  {
   "cell_type": "code",
   "execution_count": null,
   "metadata": {},
   "outputs": [],
   "source": [
    "# theBoard dictionary\n",
    "theBoard = {'7': ' ' , '8': ' ' , '9': ' ' ,\n",
    "            '4': ' ' , '5': ' ' , '6': ' ' ,\n",
    "            '1': ' ' , '2': ' ' , '3': ' ' }"
   ]
  },
  {
   "cell_type": "code",
   "execution_count": null,
   "metadata": {},
   "outputs": [],
   "source": [
    "# YOUR CODE HERE\n"
   ]
  },
  {
   "cell_type": "code",
   "execution_count": null,
   "metadata": {},
   "outputs": [],
   "source": [
    "# Testing\n",
    "game()"
   ]
  },
  {
   "cell_type": "markdown",
   "metadata": {},
   "source": [
    "Let's add the main functionality:\n",
    "\n",
    "**Exercise 2b: Copy the code of game() from above and then add a for-loop with range(10) that prints theBoard using the printBoard() function, and then also prints a sentence saying \"It's your turn, *(PLAYER WHO'S TURN IT IS)*. Move to which place?\").**\n",
    "\n",
    "*Hint: The value of the turn variable is also the player name. And if you do not remember how to to for-loops, just google it or ask your instructor.*\n",
    "\n",
    "Test your function game() to see if it correctly works."
   ]
  },
  {
   "cell_type": "code",
   "execution_count": null,
   "metadata": {},
   "outputs": [],
   "source": [
    "# YOUR CODE HERE\n"
   ]
  },
  {
   "cell_type": "code",
   "execution_count": null,
   "metadata": {},
   "outputs": [],
   "source": [
    "#Testing\n",
    "game()"
   ]
  },
  {
   "cell_type": "markdown",
   "metadata": {},
   "source": [
    "Now, we ask the user for input. \n",
    "\n",
    "**Exercise 2c): Copy your code from above, and add an input() command that is saved in the variable \"move\" inside your loop.**"
   ]
  },
  {
   "cell_type": "code",
   "execution_count": null,
   "metadata": {},
   "outputs": [],
   "source": [
    "# YOUR CODE HERE\n"
   ]
  },
  {
   "cell_type": "markdown",
   "metadata": {},
   "source": [
    "**Exercise 2d): Still inside your loop below your input, create an if-else-statement that checks if the board position where the player wants to move is empty.**\n",
    "\n",
    "**If that is the case, then save the current player (which is the variable \"turn\") in that field. **\n",
    "**Else print \"That place is already filled, move to which place?\" and add the word \"continue\" on a new line below your print statement.**\n",
    "\n",
    "Check your code afterwards to see if it works.\n",
    "\n",
    "This \"continue\" will cause the loop to start again and the player will have to enter a place on the board once again."
   ]
  },
  {
   "cell_type": "code",
   "execution_count": null,
   "metadata": {},
   "outputs": [],
   "source": [
    "#Your code here\n"
   ]
  },
  {
   "cell_type": "code",
   "execution_count": null,
   "metadata": {},
   "outputs": [],
   "source": [
    "#Testing\n",
    "game()"
   ]
  },
  {
   "cell_type": "markdown",
   "metadata": {},
   "source": [
    "***\n",
    "We also need to check if anyone has won! (Currently, we do not switch players around, so there is no chance for O to win, but we will get to that shortly!)\n",
    "\n",
    "The code for this is already written, but make sure you roughly understand what's going on:\n",
    "\n",
    "This piece of code takes a look at all possible winning combinations (for example the top row filled out by the same player) and if any of these possibilities happened, and if that is the case, then it **breaks** the loop. We simply look if the Player who has his mark in Field 7 is the same as in 8 & 9, and so on.\n",
    "\n",
    "**Exercise 2e): Copy this code and add it to your game below the if-elste statment, still inside your loop.**"
   ]
  },
  {
   "cell_type": "code",
   "execution_count": null,
   "metadata": {
    "deletable": false,
    "editable": false
   },
   "outputs": [],
   "source": [
    " # Now we will check if player X or O has won,for every move after 5 moves. \n",
    "        if count >= 5:\n",
    "            if theBoard['7'] == theBoard['8'] == theBoard['9'] != ' ': # across the top\n",
    "                printBoard(theBoard)\n",
    "                print(\"\\nGame Over.\\n\")                \n",
    "                print(\" **** \" +turn + \" won. ****\")                \n",
    "                break\n",
    "            elif theBoard['4'] == theBoard['5'] == theBoard['6'] != ' ': # across the middle\n",
    "                printBoard(theBoard)\n",
    "                print(\"\\nGame Over.\\n\")                \n",
    "                print(\" **** \" +turn + \" won. ****\")\n",
    "                break\n",
    "            elif theBoard['1'] == theBoard['2'] == theBoard['3'] != ' ': # across the bottom\n",
    "                printBoard(theBoard)\n",
    "                print(\"\\nGame Over.\\n\")                \n",
    "                print(\" **** \" +turn + \" won. ****\")\n",
    "                break\n",
    "            elif theBoard['1'] == theBoard['4'] == theBoard['7'] != ' ': # down the left side\n",
    "                printBoard(theBoard)\n",
    "                print(\"\\nGame Over.\\n\")                \n",
    "                print(\" **** \" +turn + \" won. ****\")\n",
    "                break\n",
    "            elif theBoard['2'] == theBoard['5'] == theBoard['8'] != ' ': # down the middle\n",
    "                printBoard(theBoard)\n",
    "                print(\"\\nGame Over.\\n\")                \n",
    "                print(\" **** \" +turn + \" won. ****\")\n",
    "                break\n",
    "            elif theBoard['3'] == theBoard['6'] == theBoard['9'] != ' ': # down the right side\n",
    "                printBoard(theBoard)\n",
    "                print(\"\\nGame Over.\\n\")                \n",
    "                print(\" **** \" +turn + \" won. ****\")\n",
    "                break \n",
    "            elif theBoard['7'] == theBoard['5'] == theBoard['3'] != ' ': # diagonal\n",
    "                printBoard(theBoard)\n",
    "                print(\"\\nGame Over.\\n\")                \n",
    "                print(\" **** \" +turn + \" won. ****\")\n",
    "                break\n",
    "            elif theBoard['1'] == theBoard['5'] == theBoard['9'] != ' ': # diagonal\n",
    "                printBoard(theBoard)\n",
    "                print(\"\\nGame Over.\\n\")                \n",
    "                print(\" **** \" +turn + \" won. ****\")\n",
    "                break "
   ]
  },
  {
   "cell_type": "code",
   "execution_count": null,
   "metadata": {},
   "outputs": [],
   "source": [
    "# YOUR CODE HERE\n"
   ]
  },
  {
   "cell_type": "code",
   "execution_count": null,
   "metadata": {},
   "outputs": [],
   "source": [
    "# Testing\n",
    "game()"
   ]
  },
  {
   "cell_type": "markdown",
   "metadata": {},
   "source": [
    "As you can see, it's always player X's turn. Let's change that:\n",
    "\n",
    "**Exercise 2f): Still inside your loop, below everything you have coded so far, add an if-else statement that switches the players around**\n",
    "*Hint: The idea is to check if the player (variable \"turn\") is X, and if so, switch it to O. If it's not X, switch it to X.*"
   ]
  },
  {
   "cell_type": "code",
   "execution_count": null,
   "metadata": {},
   "outputs": [],
   "source": [
    "# Your code here\n",
    "     "
   ]
  },
  {
   "cell_type": "code",
   "execution_count": null,
   "metadata": {},
   "outputs": [],
   "source": [
    "# Testing\n",
    "game()"
   ]
  },
  {
   "cell_type": "code",
   "execution_count": null,
   "metadata": {},
   "outputs": [],
   "source": []
  },
  {
   "cell_type": "code",
   "execution_count": null,
   "metadata": {},
   "outputs": [],
   "source": []
  },
  {
   "cell_type": "code",
   "execution_count": null,
   "metadata": {},
   "outputs": [],
   "source": []
  },
  {
   "cell_type": "markdown",
   "metadata": {},
   "source": [
    "The last piece we need is the \"Tie check\":\n",
    "\n",
    "What can also happen is that the board is full and no player wins.\n",
    "In that case, we declare a tie.\n",
    "\n",
    "**Exercise 2e): Check if the variable count is equal to 9, and if that is the case then display the text \"Game Over. It's a tie!\". Afterwards on a new line below your print, add a \"break\" statement to end the program. **"
   ]
  },
  {
   "cell_type": "code",
   "execution_count": null,
   "metadata": {},
   "outputs": [],
   "source": [
    "# YOUR CODE HERE\n",
    "            "
   ]
  },
  {
   "cell_type": "markdown",
   "metadata": {},
   "source": [
    "## DONE!\n",
    "\n",
    "You should be able to check if your game works by running the \"game()\" function.\n",
    "\n",
    "If it does not work, take a look at the file \"RB4_x\" you downloaded earlier. It is the solution. You can copy the code from there and compare if you made any mistakes."
   ]
  },
  {
   "cell_type": "code",
   "execution_count": null,
   "metadata": {},
   "outputs": [],
   "source": [
    "game()"
   ]
  },
  {
   "cell_type": "markdown",
   "metadata": {},
   "source": [
    "***\n",
    "**Bonus Task (if you are fast):** Try to integrate some functionality so that in the end after one player has one, the program asks \"Do you want to play another round\" and that it then automatically starts a new round if the users' input is \"yes\""
   ]
  },
  {
   "cell_type": "code",
   "execution_count": null,
   "metadata": {},
   "outputs": [],
   "source": []
  },
  {
   "cell_type": "code",
   "execution_count": null,
   "metadata": {},
   "outputs": [],
   "source": []
  },
  {
   "cell_type": "code",
   "execution_count": null,
   "metadata": {},
   "outputs": [],
   "source": []
  },
  {
   "cell_type": "code",
   "execution_count": null,
   "metadata": {},
   "outputs": [],
   "source": []
  }
 ],
 "metadata": {
  "kernelspec": {
   "display_name": "Python 3",
   "language": "python",
   "name": "python3"
  },
  "language_info": {
   "codemirror_mode": {
    "name": "ipython",
    "version": 3
   },
   "file_extension": ".py",
   "mimetype": "text/x-python",
   "name": "python",
   "nbconvert_exporter": "python",
   "pygments_lexer": "ipython3",
   "version": "3.8.5"
  }
 },
 "nbformat": 4,
 "nbformat_minor": 4
}
